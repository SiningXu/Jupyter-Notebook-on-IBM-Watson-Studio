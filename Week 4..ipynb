{
 "cells": [
  {
   "cell_type": "markdown",
   "metadata": {},
   "source": [
    "# Jupyter Notebook on IBM Watson Studio"
   ]
  },
  {
   "cell_type": "markdown",
   "metadata": {},
   "source": [
    "<b> Sining Xu </b> \n",
    " "
   ]
  },
  {
   "cell_type": "markdown",
   "metadata": {},
   "source": [
    "## Introduction\n",
    "\n",
    "This is an introduction!\n"
   ]
  },
  {
   "cell_type": "markdown",
   "metadata": {},
   "source": [
    "## Data Science Libraries\n",
    "\n",
    "Here is a list of some commonly used data science libraries in various programming languages:\n",
    "\n",
    "**Python:**\n",
    "\n",
    "- NumPy: for numerical computing with arrays and matrices\n",
    "- Pandas: for data manipulation and analysis\n",
    "- Matplotlib: for data visualization\n",
    "- Scikit-learn: for machine learning algorithms and tools\n",
    "- TensorFlow: for deep learning and neural networks\n",
    "- PyTorch: for deep learning and neural networks\n",
    "\n",
    "**R:**\n",
    "\n",
    "- dplyr: for data manipulation and analysis\n",
    "- ggplot2: for data visualization\n",
    "- tidyr: for data wrangling and tidying\n",
    "- caret: for machine learning algorithms and tools\n",
    "- data.table: for data manipulation and analysis\n",
    "- randomForest: for random forest algorithms\n",
    "\n",
    "**SQL:**\n",
    "\n",
    "- SQLite: for lightweight relational database management\n",
    "- MySQL: for a popular open-source relational database management system\n",
    "- PostgreSQL: for a powerful open-source relational database management system\n",
    "- Oracle Database: for a commercial relational database management system\n",
    "\n",
    "**MATLAB:**\n",
    "\n",
    "- Signal Processing Toolbox: for signal processing\n",
    "- Statistics and Machine Learning Toolbox: for statistical analysis and machine learning\n",
    "- Neural Network Toolbox: for neural networks\n",
    "- Computer Vision Toolbox: for computer vision and image processing\n",
    "\n",
    "**Scala:**\n",
    "\n",
    "- Spark: for distributed computing and big data processing\n",
    "- Breeze: for numerical computing with arrays and matrices\n",
    "- MLlib: for machine learning algorithms and tools\n",
    "\n",
    "Note that this is not an exhaustive list, and there are many other libraries available for each language and tool.\n"
   ]
  },
  {
   "cell_type": "markdown",
   "metadata": {},
   "source": [
    "| Tool                 | Description                                                                                |\n",
    "|----------------------|--------------------------------------------------------------------------------------------|\n",
    "| Python               | High-level, interpreted language used for data manipulation, analysis, and visualization.  |\n",
    "| R                    | Programming language and environment for statistical computing and graphics.               |\n",
    "| SQL                  | Domain-specific language used for managing relational databases.                           |\n",
    "| MATLAB               | High-level language and interactive environment for numerical computation and programming. |\n",
    "| Tableau              | Data visualization and business intelligence tool.                                         |\n"
   ]
  },
  {
   "cell_type": "markdown",
   "metadata": {},
   "source": [
    "## Arithmetic Expressions\n",
    "\n",
    "Arithmetic expressions are mathematical expressions that involve arithmetic operators such as addition, subtraction, multiplication, and division. These expressions can be represented using symbols and numbers to perform calculations. Here are some examples of arithmetic expressions:\n",
    "\n",
    "- 2 + 3 evaluates to 5\n",
    "- 8 - 4 evaluates to 4\n",
    "- 3 * 6 evaluates to 18\n",
    "- 10 / 5 evaluates to 2\n",
    "\n",
    "In addition to these basic arithmetic operators, other operators such as modulus (%) and exponentiation (**) can also be used in arithmetic expressions. Here are some examples of arithmetic expressions using these operators:\n",
    "\n",
    "- 7 % 2 evaluates to 1\n",
    "- 2 ** 3 evaluates to 8\n",
    "- (2 + 3) * 4 evaluates to 20\n",
    "\n",
    "Arithmetic expressions are used in many areas of data science, including data analysis, statistical modeling, and machine learning. It is important to understand the basic arithmetic operators and how to use them to perform calculations in data science.\n"
   ]
  },
  {
   "cell_type": "code",
   "execution_count": 4,
   "metadata": {},
   "outputs": [
    {
     "name": "stdout",
     "output_type": "stream",
     "text": [
      "The product of 2 and 3 is 6\n",
      "The sum of 3 and 4 is 7\n"
     ]
    }
   ],
   "source": [
    "# Multiply and add numbers\n",
    "a = 2\n",
    "b = 3\n",
    "c = 4\n",
    "\n",
    "# Multiply a and b\n",
    "product = a * b\n",
    "print(f\"The product of {a} and {b} is {product}\")\n",
    "\n",
    "# Add b and c\n",
    "sum = b + c\n",
    "print(f\"The sum of {b} and {c} is {sum}\")\n"
   ]
  },
  {
   "cell_type": "code",
   "execution_count": 5,
   "metadata": {
    "jupyter": {
     "source_hidden": true
    },
    "tags": []
   },
   "outputs": [
    {
     "name": "stdout",
     "output_type": "stream",
     "text": [
      "150 minutes is equal to 2 hours and 30 minutes.\n"
     ]
    }
   ],
   "source": [
    "# Convert minutes to hours\n",
    "minutes = 150\n",
    "\n",
    "# Calculate hours and minutes\n",
    "hours = minutes // 60\n",
    "remaining_minutes = minutes % 60\n",
    "\n",
    "# Print result\n",
    "print(f\"{minutes} minutes is equal to {hours} hours and {remaining_minutes} minutes.\")\n"
   ]
  },
  {
   "cell_type": "markdown",
   "metadata": {},
   "source": [
    "# Objectives\n",
    "\n",
    "The following are some of the objectives that can be accomplished through the use of data science tools and techniques:\n",
    "\n",
    "- **Data cleaning and preprocessing**: Prepare raw data for analysis by identifying and correcting errors, dealing with missing values, and transforming data into a suitable format.\n",
    "\n",
    "- **Exploratory data analysis**: Gain insight into a dataset by visualizing and summarizing its main features, such as distribution, correlation, and outliers.\n",
    "\n",
    "- **Predictive modeling**: Build statistical and machine learning models to make predictions and identify patterns in data, such as classification, regression, and clustering.\n",
    "\n",
    "- **Data visualization**: Create meaningful and informative visual representations of data to communicate insights and findings to stakeholders, using tools such as charts, graphs, and maps.\n",
    "\n",
    "- **Data storytelling**: Use narrative and storytelling techniques to communicate data-driven insights in a compelling and persuasive manner, such as through data-driven presentations or reports.\n",
    "\n",
    "- **Data-driven decision making**: Use data and analysis to inform and support decision making in various domains, such as business, policy, and healthcare.\n",
    "\n",
    "These objectives are just a few examples of the many ways that data science tools and techniques can be used to extract value and insights from data.\n"
   ]
  }
 ],
 "metadata": {
  "kernelspec": {
   "display_name": "Python",
   "language": "python",
   "name": "conda-env-python-py"
  },
  "language_info": {
   "codemirror_mode": {
    "name": "ipython",
    "version": 3
   },
   "file_extension": ".py",
   "mimetype": "text/x-python",
   "name": "python",
   "nbconvert_exporter": "python",
   "pygments_lexer": "ipython3",
   "version": "3.7.12"
  }
 },
 "nbformat": 4,
 "nbformat_minor": 4
}
